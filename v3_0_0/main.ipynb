{
  "cells": [
    {
      "cell_type": "markdown",
      "metadata": {
        "id": "view-in-github",
        "colab_type": "text"
      },
      "source": [
        "<a href=\"https://colab.research.google.com/github/yutakoike0523/keiba/blob/main/main.ipynb\" target=\"_parent\"><img src=\"https://colab.research.google.com/assets/colab-badge.svg\" alt=\"Open In Colab\"/></a>"
      ]
    },
    {
      "cell_type": "markdown",
      "metadata": {
        "id": "LcxJ9nJtTCbC"
      },
      "source": [
        "# インポート"
      ]
    },
    {
      "cell_type": "code",
      "execution_count": null,
      "metadata": {
        "id": "orhb1aafTCbD"
      },
      "outputs": [],
      "source": [
        "import preprocessing\n",
        "from feature_engineering import FeatureCreator, PredictionFeatureCreator\n",
        "from train import Trainer\n",
        "import prediction\n",
        "%load_ext autoreload"
      ]
    },
    {
      "cell_type": "code",
      "execution_count": null,
      "metadata": {
        "id": "pi65704STCbF"
      },
      "outputs": [],
      "source": [
        "%autoreload"
      ]
    },
    {
      "cell_type": "markdown",
      "metadata": {
        "id": "W9l6d6nnTCbF"
      },
      "source": [
        "# データ加工"
      ]
    },
    {
      "cell_type": "code",
      "execution_count": null,
      "metadata": {
        "id": "gX2ovNeuTCbF"
      },
      "outputs": [],
      "source": [
        "# レース結果テーブルの前処理\n",
        "results_preprocessed = preprocessing.process_results()"
      ]
    },
    {
      "cell_type": "code",
      "execution_count": null,
      "metadata": {
        "id": "T0ZfTXxYTCbF",
        "outputId": "5111cc65-80d8-4024-f87d-13823a479028"
      },
      "outputs": [
        {
          "data": {
            "text/plain": [
              "0"
            ]
          },
          "execution_count": 4,
          "metadata": {},
          "output_type": "execute_result"
        }
      ],
      "source": [
        "# 重複チェック\n",
        "results_preprocessed.duplicated(subset=[\"race_id\", \"horse_id\"]).sum()"
      ]
    },
    {
      "cell_type": "code",
      "execution_count": null,
      "metadata": {
        "id": "mYfUoZvzTCbG",
        "outputId": "c0de0f35-8976-4b32-99ed-d515abbaa4a8"
      },
      "outputs": [
        {
          "data": {
            "text/plain": [
              "race_id        0\n",
              "horse_id       0\n",
              "jockey_id      0\n",
              "trainer_id     0\n",
              "owner_id       0\n",
              "rank           0\n",
              "umaban         0\n",
              "wakuban        0\n",
              "tansho_odds    0\n",
              "popularity     0\n",
              "impost         0\n",
              "sex            0\n",
              "age            0\n",
              "weight         0\n",
              "weight_diff    0\n",
              "dtype: int64"
            ]
          },
          "execution_count": 5,
          "metadata": {},
          "output_type": "execute_result"
        }
      ],
      "source": [
        "# 欠損チェック\n",
        "results_preprocessed.isnull().sum()"
      ]
    },
    {
      "cell_type": "code",
      "execution_count": null,
      "metadata": {
        "id": "tOrfdb6WTCbG"
      },
      "outputs": [],
      "source": [
        "# 馬の過去成績テーブルの加工\n",
        "horse_results_preprocessed = preprocessing.process_horse_results()"
      ]
    },
    {
      "cell_type": "code",
      "execution_count": null,
      "metadata": {
        "id": "00Os-aBKTCbG",
        "outputId": "04717a45-2843-4dcc-e0b7-cc7df3dc4ef9"
      },
      "outputs": [
        {
          "data": {
            "text/plain": [
              "horse_id            0\n",
              "date                0\n",
              "rank                0\n",
              "prize               0\n",
              "rank_diff         234\n",
              "weather           195\n",
              "race_type           0\n",
              "course_len          0\n",
              "ground_state        0\n",
              "race_class      48143\n",
              "n_horses            0\n",
              "dtype: int64"
            ]
          },
          "execution_count": 7,
          "metadata": {},
          "output_type": "execute_result"
        }
      ],
      "source": [
        "# 欠損チェック\n",
        "horse_results_preprocessed.isnull().sum()"
      ]
    },
    {
      "cell_type": "code",
      "execution_count": null,
      "metadata": {
        "id": "-pj6uSdOTCbH",
        "outputId": "08dcfdba-cbba-46ce-984a-89bef4e9272c"
      },
      "outputs": [
        {
          "data": {
            "text/plain": [
              "0"
            ]
          },
          "execution_count": 8,
          "metadata": {},
          "output_type": "execute_result"
        }
      ],
      "source": [
        "# 重複チェック\n",
        "horse_results_preprocessed.duplicated(subset=[\"horse_id\", \"date\"]).sum()"
      ]
    },
    {
      "cell_type": "code",
      "execution_count": null,
      "metadata": {
        "id": "rkR3b7x_TCbH"
      },
      "outputs": [],
      "source": [
        "# レース情報テーブルの前処理\n",
        "race_info_preprocessed = preprocessing.process_race_info()"
      ]
    },
    {
      "cell_type": "code",
      "execution_count": null,
      "metadata": {
        "id": "ChBN7jgSTCbH",
        "outputId": "7fbeac4c-8aae-4898-914d-6185cfe6b4e7"
      },
      "outputs": [
        {
          "data": {
            "text/html": [
              "<div>\n",
              "<style scoped>\n",
              "    .dataframe tbody tr th:only-of-type {\n",
              "        vertical-align: middle;\n",
              "    }\n",
              "\n",
              "    .dataframe tbody tr th {\n",
              "        vertical-align: top;\n",
              "    }\n",
              "\n",
              "    .dataframe thead th {\n",
              "        text-align: right;\n",
              "    }\n",
              "</style>\n",
              "<table border=\"1\" class=\"dataframe\">\n",
              "  <thead>\n",
              "    <tr style=\"text-align: right;\">\n",
              "      <th></th>\n",
              "      <th>race_id</th>\n",
              "      <th>date</th>\n",
              "      <th>race_type</th>\n",
              "      <th>around</th>\n",
              "      <th>course_len</th>\n",
              "      <th>weather</th>\n",
              "      <th>ground_state</th>\n",
              "      <th>race_class</th>\n",
              "      <th>place</th>\n",
              "    </tr>\n",
              "  </thead>\n",
              "  <tbody>\n",
              "    <tr>\n",
              "      <th>0</th>\n",
              "      <td>202306010307</td>\n",
              "      <td>2023-01-08</td>\n",
              "      <td>0</td>\n",
              "      <td>0.0</td>\n",
              "      <td>1800</td>\n",
              "      <td>1</td>\n",
              "      <td>0</td>\n",
              "      <td>2</td>\n",
              "      <td>6</td>\n",
              "    </tr>\n",
              "    <tr>\n",
              "      <th>1</th>\n",
              "      <td>202306010308</td>\n",
              "      <td>2023-01-08</td>\n",
              "      <td>0</td>\n",
              "      <td>0.0</td>\n",
              "      <td>1200</td>\n",
              "      <td>1</td>\n",
              "      <td>0</td>\n",
              "      <td>2</td>\n",
              "      <td>6</td>\n",
              "    </tr>\n",
              "    <tr>\n",
              "      <th>2</th>\n",
              "      <td>202306010309</td>\n",
              "      <td>2023-01-08</td>\n",
              "      <td>1</td>\n",
              "      <td>0.0</td>\n",
              "      <td>1200</td>\n",
              "      <td>1</td>\n",
              "      <td>0</td>\n",
              "      <td>2</td>\n",
              "      <td>6</td>\n",
              "    </tr>\n",
              "    <tr>\n",
              "      <th>3</th>\n",
              "      <td>202306010310</td>\n",
              "      <td>2023-01-08</td>\n",
              "      <td>1</td>\n",
              "      <td>0.0</td>\n",
              "      <td>1600</td>\n",
              "      <td>1</td>\n",
              "      <td>0</td>\n",
              "      <td>4</td>\n",
              "      <td>6</td>\n",
              "    </tr>\n",
              "    <tr>\n",
              "      <th>4</th>\n",
              "      <td>202306010311</td>\n",
              "      <td>2023-01-08</td>\n",
              "      <td>0</td>\n",
              "      <td>0.0</td>\n",
              "      <td>1800</td>\n",
              "      <td>1</td>\n",
              "      <td>0</td>\n",
              "      <td>5</td>\n",
              "      <td>6</td>\n",
              "    </tr>\n",
              "    <tr>\n",
              "      <th>...</th>\n",
              "      <td>...</td>\n",
              "      <td>...</td>\n",
              "      <td>...</td>\n",
              "      <td>...</td>\n",
              "      <td>...</td>\n",
              "      <td>...</td>\n",
              "      <td>...</td>\n",
              "      <td>...</td>\n",
              "      <td>...</td>\n",
              "    </tr>\n",
              "    <tr>\n",
              "      <th>5053</th>\n",
              "      <td>202402010408</td>\n",
              "      <td>2024-06-16</td>\n",
              "      <td>1</td>\n",
              "      <td>0.0</td>\n",
              "      <td>1200</td>\n",
              "      <td>2</td>\n",
              "      <td>0</td>\n",
              "      <td>2</td>\n",
              "      <td>2</td>\n",
              "    </tr>\n",
              "    <tr>\n",
              "      <th>5054</th>\n",
              "      <td>202402010409</td>\n",
              "      <td>2024-06-16</td>\n",
              "      <td>1</td>\n",
              "      <td>0.0</td>\n",
              "      <td>1800</td>\n",
              "      <td>3</td>\n",
              "      <td>0</td>\n",
              "      <td>5</td>\n",
              "      <td>2</td>\n",
              "    </tr>\n",
              "    <tr>\n",
              "      <th>5055</th>\n",
              "      <td>202402010410</td>\n",
              "      <td>2024-06-16</td>\n",
              "      <td>0</td>\n",
              "      <td>0.0</td>\n",
              "      <td>1700</td>\n",
              "      <td>3</td>\n",
              "      <td>0</td>\n",
              "      <td>5</td>\n",
              "      <td>2</td>\n",
              "    </tr>\n",
              "    <tr>\n",
              "      <th>5056</th>\n",
              "      <td>202402010411</td>\n",
              "      <td>2024-06-16</td>\n",
              "      <td>1</td>\n",
              "      <td>0.0</td>\n",
              "      <td>1200</td>\n",
              "      <td>3</td>\n",
              "      <td>0</td>\n",
              "      <td>4</td>\n",
              "      <td>2</td>\n",
              "    </tr>\n",
              "    <tr>\n",
              "      <th>5057</th>\n",
              "      <td>202402010412</td>\n",
              "      <td>2024-06-16</td>\n",
              "      <td>1</td>\n",
              "      <td>0.0</td>\n",
              "      <td>1200</td>\n",
              "      <td>0</td>\n",
              "      <td>0</td>\n",
              "      <td>2</td>\n",
              "      <td>2</td>\n",
              "    </tr>\n",
              "  </tbody>\n",
              "</table>\n",
              "<p>5058 rows × 9 columns</p>\n",
              "</div>"
            ],
            "text/plain": [
              "           race_id       date  race_type  around course_len  weather  \\\n",
              "0     202306010307 2023-01-08          0     0.0       1800        1   \n",
              "1     202306010308 2023-01-08          0     0.0       1200        1   \n",
              "2     202306010309 2023-01-08          1     0.0       1200        1   \n",
              "3     202306010310 2023-01-08          1     0.0       1600        1   \n",
              "4     202306010311 2023-01-08          0     0.0       1800        1   \n",
              "...            ...        ...        ...     ...        ...      ...   \n",
              "5053  202402010408 2024-06-16          1     0.0       1200        2   \n",
              "5054  202402010409 2024-06-16          1     0.0       1800        3   \n",
              "5055  202402010410 2024-06-16          0     0.0       1700        3   \n",
              "5056  202402010411 2024-06-16          1     0.0       1200        3   \n",
              "5057  202402010412 2024-06-16          1     0.0       1200        0   \n",
              "\n",
              "      ground_state  race_class  place  \n",
              "0                0           2      6  \n",
              "1                0           2      6  \n",
              "2                0           2      6  \n",
              "3                0           4      6  \n",
              "4                0           5      6  \n",
              "...            ...         ...    ...  \n",
              "5053             0           2      2  \n",
              "5054             0           5      2  \n",
              "5055             0           5      2  \n",
              "5056             0           4      2  \n",
              "5057             0           2      2  \n",
              "\n",
              "[5058 rows x 9 columns]"
            ]
          },
          "execution_count": 10,
          "metadata": {},
          "output_type": "execute_result"
        }
      ],
      "source": [
        "race_info_preprocessed"
      ]
    },
    {
      "cell_type": "markdown",
      "metadata": {
        "id": "RyZnSiTzTCbI"
      },
      "source": [
        "#  特徴量作成"
      ]
    },
    {
      "cell_type": "code",
      "execution_count": null,
      "metadata": {
        "id": "6sPCLMyATCbI"
      },
      "outputs": [],
      "source": [
        "fc = FeatureCreator()\n",
        "features = fc.create_features()"
      ]
    },
    {
      "cell_type": "code",
      "execution_count": null,
      "metadata": {
        "id": "VDjq2TFVTCbI",
        "outputId": "77aa8a84-05b7-43ad-bcbe-9644d021d00f"
      },
      "outputs": [
        {
          "data": {
            "text/plain": [
              "0"
            ]
          },
          "execution_count": 12,
          "metadata": {},
          "output_type": "execute_result"
        }
      ],
      "source": [
        "# 重複チェック\n",
        "features.duplicated(subset=[\"race_id\", \"horse_id\"]).sum()"
      ]
    },
    {
      "cell_type": "markdown",
      "metadata": {
        "id": "I4aduZFXTCbI"
      },
      "source": [
        "# 学習"
      ]
    },
    {
      "cell_type": "code",
      "execution_count": null,
      "metadata": {
        "id": "NpPSIHoCTCbJ",
        "outputId": "ba55c522-7535-4715-abcd-7e83352d6bf1"
      },
      "outputs": [
        {
          "name": "stdout",
          "output_type": "stream",
          "text": [
            "[100]\ttraining's binary_logloss: 0.151195\tvalid_1's binary_logloss: 0.206174\n"
          ]
        }
      ],
      "source": [
        "trainer = Trainer()\n",
        "evaluation_df = trainer.run(test_start_date=\"2023-10-01\")"
      ]
    },
    {
      "cell_type": "markdown",
      "metadata": {
        "id": "xNzZYD1cTCbJ"
      },
      "source": [
        "# 予測"
      ]
    },
    {
      "cell_type": "markdown",
      "metadata": {
        "id": "7ORqUQpmTCbJ"
      },
      "source": [
        "## 事前準備\n",
        "**当日出走馬が確定した時点**で実行できる"
      ]
    },
    {
      "cell_type": "code",
      "execution_count": null,
      "metadata": {
        "id": "bmaIEc2rTCbJ"
      },
      "outputs": [],
      "source": [
        "# 当日出走馬の過去成績テーブルの前処理\n",
        "horse_results_preprocessed = preprocessing.process_horse_results(\n",
        "    save_filename=\"horse_results_prediction.csv\"\n",
        ")"
      ]
    },
    {
      "cell_type": "code",
      "execution_count": null,
      "metadata": {
        "id": "nJbis4-QTCbJ"
      },
      "outputs": [],
      "source": [
        "pfc = PredictionFeatureCreator()\n",
        "# 馬の過去成績集計は事前に行うことができる\n",
        "pfc.agg_horse_n_races()"
      ]
    },
    {
      "cell_type": "code",
      "execution_count": null,
      "metadata": {
        "id": "cP58Sfq7TCbJ"
      },
      "outputs": [],
      "source": [
        "%autoreload"
      ]
    },
    {
      "cell_type": "markdown",
      "metadata": {
        "id": "AvluKlboTCbJ"
      },
      "source": [
        "## 当日の予測処理\n",
        "レース直前出走直前に実行する"
      ]
    },
    {
      "cell_type": "code",
      "execution_count": null,
      "metadata": {
        "id": "KMhsv0OaTCbK",
        "outputId": "97e547d5-43d8-4259-d177-393a9e31e63f"
      },
      "outputs": [
        {
          "name": "stderr",
          "output_type": "stream",
          "text": [
            "g:\\マイドライブ\\Colab Notebooks\\keibaAI-v3-yt-main\\v3_0_0\\src\\feature_engineering.py:165: FutureWarning: Passing literal html to 'read_html' is deprecated and will be removed in a future version. To read from a literal string, wrap it in a 'StringIO' object.\n",
            "  df = pd.read_html(html)[0]\n"
          ]
        }
      ],
      "source": [
        "# 特徴量の更新\n",
        "features = pfc.create_features(\n",
        "    race_id=\"202408040811\",  # 予測するレースidを指定\n",
        "    skip_agg_horse=True  # 事前に集計した場合はスキップできる\n",
        ")"
      ]
    },
    {
      "cell_type": "code",
      "execution_count": null,
      "metadata": {
        "id": "xUxR7NDUTCbK",
        "outputId": "4e56c9e7-354a-4057-e0e6-bc2f9854f1a7"
      },
      "outputs": [
        {
          "data": {
            "text/html": [
              "<div>\n",
              "<style scoped>\n",
              "    .dataframe tbody tr th:only-of-type {\n",
              "        vertical-align: middle;\n",
              "    }\n",
              "\n",
              "    .dataframe tbody tr th {\n",
              "        vertical-align: top;\n",
              "    }\n",
              "\n",
              "    .dataframe thead th {\n",
              "        text-align: right;\n",
              "    }\n",
              "</style>\n",
              "<table border=\"1\" class=\"dataframe\">\n",
              "  <thead>\n",
              "    <tr style=\"text-align: right;\">\n",
              "      <th></th>\n",
              "      <th>race_id</th>\n",
              "      <th>umaban</th>\n",
              "      <th>tansho_odds</th>\n",
              "      <th>popularity</th>\n",
              "      <th>pred</th>\n",
              "    </tr>\n",
              "  </thead>\n",
              "  <tbody>\n",
              "    <tr>\n",
              "      <th>1</th>\n",
              "      <td>202408040811</td>\n",
              "      <td>2</td>\n",
              "      <td>3.7</td>\n",
              "      <td>2</td>\n",
              "      <td>0.597261</td>\n",
              "    </tr>\n",
              "    <tr>\n",
              "      <th>3</th>\n",
              "      <td>202408040811</td>\n",
              "      <td>4</td>\n",
              "      <td>2.3</td>\n",
              "      <td>1</td>\n",
              "      <td>0.406090</td>\n",
              "    </tr>\n",
              "    <tr>\n",
              "      <th>11</th>\n",
              "      <td>202408040811</td>\n",
              "      <td>12</td>\n",
              "      <td>7.5</td>\n",
              "      <td>3</td>\n",
              "      <td>0.085310</td>\n",
              "    </tr>\n",
              "    <tr>\n",
              "      <th>2</th>\n",
              "      <td>202408040811</td>\n",
              "      <td>3</td>\n",
              "      <td>11.6</td>\n",
              "      <td>5</td>\n",
              "      <td>0.050690</td>\n",
              "    </tr>\n",
              "    <tr>\n",
              "      <th>8</th>\n",
              "      <td>202408040811</td>\n",
              "      <td>9</td>\n",
              "      <td>16.9</td>\n",
              "      <td>7</td>\n",
              "      <td>0.048155</td>\n",
              "    </tr>\n",
              "    <tr>\n",
              "      <th>9</th>\n",
              "      <td>202408040811</td>\n",
              "      <td>10</td>\n",
              "      <td>10.5</td>\n",
              "      <td>4</td>\n",
              "      <td>0.044886</td>\n",
              "    </tr>\n",
              "    <tr>\n",
              "      <th>12</th>\n",
              "      <td>202408040811</td>\n",
              "      <td>13</td>\n",
              "      <td>33.8</td>\n",
              "      <td>10</td>\n",
              "      <td>0.036524</td>\n",
              "    </tr>\n",
              "    <tr>\n",
              "      <th>6</th>\n",
              "      <td>202408040811</td>\n",
              "      <td>7</td>\n",
              "      <td>15.1</td>\n",
              "      <td>6</td>\n",
              "      <td>0.029658</td>\n",
              "    </tr>\n",
              "    <tr>\n",
              "      <th>0</th>\n",
              "      <td>202408040811</td>\n",
              "      <td>1</td>\n",
              "      <td>25.4</td>\n",
              "      <td>8</td>\n",
              "      <td>0.017493</td>\n",
              "    </tr>\n",
              "    <tr>\n",
              "      <th>4</th>\n",
              "      <td>202408040811</td>\n",
              "      <td>5</td>\n",
              "      <td>25.4</td>\n",
              "      <td>9</td>\n",
              "      <td>0.012412</td>\n",
              "    </tr>\n",
              "    <tr>\n",
              "      <th>7</th>\n",
              "      <td>202408040811</td>\n",
              "      <td>8</td>\n",
              "      <td>133.1</td>\n",
              "      <td>11</td>\n",
              "      <td>0.006340</td>\n",
              "    </tr>\n",
              "    <tr>\n",
              "      <th>10</th>\n",
              "      <td>202408040811</td>\n",
              "      <td>11</td>\n",
              "      <td>165.0</td>\n",
              "      <td>13</td>\n",
              "      <td>0.001187</td>\n",
              "    </tr>\n",
              "    <tr>\n",
              "      <th>5</th>\n",
              "      <td>202408040811</td>\n",
              "      <td>6</td>\n",
              "      <td>162.3</td>\n",
              "      <td>12</td>\n",
              "      <td>0.000876</td>\n",
              "    </tr>\n",
              "  </tbody>\n",
              "</table>\n",
              "</div>"
            ],
            "text/plain": [
              "         race_id  umaban  tansho_odds  popularity      pred\n",
              "1   202408040811       2          3.7           2  0.597261\n",
              "3   202408040811       4          2.3           1  0.406090\n",
              "11  202408040811      12          7.5           3  0.085310\n",
              "2   202408040811       3         11.6           5  0.050690\n",
              "8   202408040811       9         16.9           7  0.048155\n",
              "9   202408040811      10         10.5           4  0.044886\n",
              "12  202408040811      13         33.8          10  0.036524\n",
              "6   202408040811       7         15.1           6  0.029658\n",
              "0   202408040811       1         25.4           8  0.017493\n",
              "4   202408040811       5         25.4           9  0.012412\n",
              "7   202408040811       8        133.1          11  0.006340\n",
              "10  202408040811      11        165.0          13  0.001187\n",
              "5   202408040811       6        162.3          12  0.000876"
            ]
          },
          "execution_count": 28,
          "metadata": {},
          "output_type": "execute_result"
        }
      ],
      "source": [
        "# 予測\n",
        "prediction.predict(features)"
      ]
    }
  ],
  "metadata": {
    "kernelspec": {
      "display_name": "Python 3",
      "language": "python",
      "name": "python3"
    },
    "language_info": {
      "codemirror_mode": {
        "name": "ipython",
        "version": 3
      },
      "file_extension": ".py",
      "mimetype": "text/x-python",
      "name": "python",
      "nbconvert_exporter": "python",
      "pygments_lexer": "ipython3",
      "version": "3.12.2"
    },
    "colab": {
      "provenance": [],
      "include_colab_link": true
    }
  },
  "nbformat": 4,
  "nbformat_minor": 0
}